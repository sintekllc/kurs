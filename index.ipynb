{
 "cells": [
  {
   "cell_type": "code",
   "execution_count": 1,
   "metadata": {
    "collapsed": false
   },
   "outputs": [
    {
     "name": "stdout",
     "output_type": "stream",
     "text": [
      "Populating the interactive namespace from numpy and matplotlib\n"
     ]
    }
   ],
   "source": [
    "%pylab inline\n",
    "import matplotlib.pyplot as plt\n"
   ]
  },
  {
   "cell_type": "code",
   "execution_count": 2,
   "metadata": {
    "collapsed": true
   },
   "outputs": [],
   "source": [
    "import numpy as np # linear algebra\n",
    "import pandas as pd # data processing, CSV file I/O (e.g. pd.read_csv)\n",
    "import timeit\n",
    "import warnings\n",
    "from itertools import product\n",
    "warnings.filterwarnings(\"ignore\")\n",
    "pd.options.mode.chained_assignment = None  # default='warn'"
   ]
  },
  {
   "cell_type": "code",
   "execution_count": 3,
   "metadata": {
    "collapsed": false
   },
   "outputs": [],
   "source": [
    "from ipyleaflet import (\n",
    "    Map,\n",
    "    Marker,\n",
    "    TileLayer, ImageOverlay,\n",
    "    Polyline, Polygon, Rectangle, Circle, CircleMarker,\n",
    "    GeoJSON,\n",
    "    DrawControl\n",
    ")"
   ]
  },
  {
   "cell_type": "code",
   "execution_count": 4,
   "metadata": {
    "collapsed": true
   },
   "outputs": [],
   "source": [
    "import ipyleaflet as il"
   ]
  },
  {
   "cell_type": "code",
   "execution_count": 5,
   "metadata": {
    "collapsed": true
   },
   "outputs": [],
   "source": [
    "import matplotlib as mpl\n",
    "import matplotlib.cm\n",
    "import matplotlib.colors\n",
    "import numpy as np\n",
    "\n",
    "def n_colors(n, colormap=mpl.cm.Blues):\n",
    "    data = np.linspace(0.0,1.0,n)\n",
    "    c = [mpl.colors.rgb2hex(d[0:3]) for d in colormap(data)]\n",
    "    return c\n",
    "\n",
    "def data_to_colors(data, colormap=mpl.cm.Blues):\n",
    "    c = [mpl.colors.rgb2hex(d[0:3]) for d in colormap(mpl.colors.Normalize()(data))]\n",
    "    return c"
   ]
  },
  {
   "cell_type": "code",
   "execution_count": 39,
   "metadata": {
    "collapsed": true
   },
   "outputs": [],
   "source": [
    "colors=n_colors(2)"
   ]
  },
  {
   "cell_type": "code",
   "execution_count": 40,
   "metadata": {
    "collapsed": true
   },
   "outputs": [],
   "source": [
    "color=colors[0]"
   ]
  },
  {
   "cell_type": "code",
   "execution_count": 6,
   "metadata": {
    "collapsed": true
   },
   "outputs": [],
   "source": [
    "#Функция возвращает код региона по координатам\n",
    "#0- когда нет региона\n",
    "def get_region(lon,lat):\n",
    "    r=0\n",
    "    r=regions.loc[(regions.west<lon)&\n",
    "           (regions.east>lon)&\n",
    "           (regions.south<lat)&\n",
    "           (regions.north>lat)\n",
    "           ,'region'].values\n",
    "    if r.shape[0]==0:\n",
    "        return 0\n",
    "    return r[0]"
   ]
  },
  {
   "cell_type": "code",
   "execution_count": 8,
   "metadata": {
    "collapsed": true
   },
   "outputs": [],
   "source": [
    "# Номера регионов для обработки берём из перыдущих работ, поэтому сразу готовый список.\n",
    "regions_ids = [1075, 1076, 1077, 1125, 1126, 1127, 1128, 1129, 1130, 1131, 1132,\n",
    "       1172, 1173, 1174, 1175, 1176, 1177, 1178, 1179, 1180, 1181, 1182,\n",
    "       1183, 1184, 1221, 1222, 1223, 1224, 1225, 1227, 1228, 1229, 1230,\n",
    "       1231, 1232, 1233, 1234, 1235, 1272, 1273, 1274, 1278, 1279, 1280,\n",
    "       1281, 1282, 1283, 1284, 1285, 1286, 1287, 1326, 1327, 1331, 1332,\n",
    "       1333, 1334, 1335, 1336, 1337, 1338, 1339, 1376, 1377, 1378, 1380,\n",
    "       1382, 1383, 1384, 1385, 1386, 1387, 1388, 1389, 1390, 1426, 1431,\n",
    "       1434, 1435, 1436, 1437, 1438, 1439, 1441, 1442, 1480, 1482, 1483,\n",
    "       1530, 1532, 1533, 1580, 1630, 1684, 1733, 1734, 1783, 2068, 2069,\n",
    "       2118, 2119, 2168]"
   ]
  },
  {
   "cell_type": "code",
   "execution_count": 7,
   "metadata": {
    "collapsed": false
   },
   "outputs": [
    {
     "data": {
      "text/html": [
       "<div>\n",
       "<table border=\"1\" class=\"dataframe\">\n",
       "  <thead>\n",
       "    <tr style=\"text-align: right;\">\n",
       "      <th></th>\n",
       "      <th>region</th>\n",
       "      <th>west</th>\n",
       "      <th>east</th>\n",
       "      <th>south</th>\n",
       "      <th>north</th>\n",
       "    </tr>\n",
       "  </thead>\n",
       "  <tbody>\n",
       "    <tr>\n",
       "      <th>0</th>\n",
       "      <td>1</td>\n",
       "      <td>-74.25559</td>\n",
       "      <td>-74.244478</td>\n",
       "      <td>40.496120</td>\n",
       "      <td>40.504508</td>\n",
       "    </tr>\n",
       "    <tr>\n",
       "      <th>1</th>\n",
       "      <td>2</td>\n",
       "      <td>-74.25559</td>\n",
       "      <td>-74.244478</td>\n",
       "      <td>40.504508</td>\n",
       "      <td>40.512896</td>\n",
       "    </tr>\n",
       "    <tr>\n",
       "      <th>2</th>\n",
       "      <td>3</td>\n",
       "      <td>-74.25559</td>\n",
       "      <td>-74.244478</td>\n",
       "      <td>40.512896</td>\n",
       "      <td>40.521285</td>\n",
       "    </tr>\n",
       "    <tr>\n",
       "      <th>3</th>\n",
       "      <td>4</td>\n",
       "      <td>-74.25559</td>\n",
       "      <td>-74.244478</td>\n",
       "      <td>40.521285</td>\n",
       "      <td>40.529673</td>\n",
       "    </tr>\n",
       "    <tr>\n",
       "      <th>4</th>\n",
       "      <td>5</td>\n",
       "      <td>-74.25559</td>\n",
       "      <td>-74.244478</td>\n",
       "      <td>40.529673</td>\n",
       "      <td>40.538061</td>\n",
       "    </tr>\n",
       "    <tr>\n",
       "      <th>5</th>\n",
       "      <td>6</td>\n",
       "      <td>-74.25559</td>\n",
       "      <td>-74.244478</td>\n",
       "      <td>40.538061</td>\n",
       "      <td>40.546449</td>\n",
       "    </tr>\n",
       "  </tbody>\n",
       "</table>\n",
       "</div>"
      ],
      "text/plain": [
       "   region      west       east      south      north\n",
       "0       1 -74.25559 -74.244478  40.496120  40.504508\n",
       "1       2 -74.25559 -74.244478  40.504508  40.512896\n",
       "2       3 -74.25559 -74.244478  40.512896  40.521285\n",
       "3       4 -74.25559 -74.244478  40.521285  40.529673\n",
       "4       5 -74.25559 -74.244478  40.529673  40.538061\n",
       "5       6 -74.25559 -74.244478  40.538061  40.546449"
      ]
     },
     "execution_count": 7,
     "metadata": {},
     "output_type": "execute_result"
    }
   ],
   "source": [
    "# загружаем данные регионов\n",
    "#regions=pd.read_csv('g:/python_kurs/kurs6/taxi/regions.csv',sep=';')\n",
    "regions=pd.read_csv('regions.csv',sep=';')\n",
    "regions.head(6)"
   ]
  },
  {
   "cell_type": "code",
   "execution_count": 9,
   "metadata": {
    "collapsed": true
   },
   "outputs": [],
   "source": [
    "# загружаем данные с регрессионными признаками с 5 недели за 11 2015 - июнь 2016\n",
    "#dt9=pd.read_csv('g:/python_kurs/kurs6/taxi/dt9_dop_11_2015_05_2016_102_2.csv')\n",
    "dt9=pd.read_csv('dt10_data.csv')\n",
    "dt9=dt9.set_index('dtt')"
   ]
  },
  {
   "cell_type": "code",
   "execution_count": 36,
   "metadata": {
    "collapsed": false
   },
   "outputs": [],
   "source": [
    "from IPython.html import widgets\n",
    "# add button that updates the graph based on the checkboxes\n",
    "button = widgets.Button(description=u\"Нарисовать график\")\n"
   ]
  },
  {
   "cell_type": "code",
   "execution_count": 37,
   "metadata": {
    "collapsed": true
   },
   "outputs": [],
   "source": [
    "# function to deal with the checkbox update button      \n",
    "def on_button_clicked(b):\n",
    "    region1=NumberofRegion.value\n",
    "    print 'Регион №',region1\n",
    "    data=dt9.loc[dt9.region_pickup==int(region1),:]\n",
    "    if len(data)==0:\n",
    "        print ' Нет данных для данного региона'\n",
    "    else:\n",
    "        plt.clf()\n",
    "        plt.figure(figsize(15,7))\n",
    "        l8=len(data)-720\n",
    "        data.vcc[:l8-1].plot()\n",
    "        data.fc1.plot(color='r')\n",
    "        plt.ylabel('trip count')\n",
    "        plt.title('Region #{}'.format(region1))\n",
    "        plt.legend()\n",
    "        plt.draw()\n",
    "        plt.show()\n"
   ]
  },
  {
   "cell_type": "code",
   "execution_count": 38,
   "metadata": {
    "collapsed": false
   },
   "outputs": [],
   "source": [
    "\n",
    "button.on_click(on_button_clicked)\n",
    "\n"
   ]
  },
  {
   "cell_type": "code",
   "execution_count": 13,
   "metadata": {
    "collapsed": false
   },
   "outputs": [],
   "source": [
    "NumberofRegion=widgets.Text()\n",
    "NumberofRegion.value='1533'\n"
   ]
  },
  {
   "cell_type": "code",
   "execution_count": 32,
   "metadata": {
    "collapsed": true
   },
   "outputs": [],
   "source": [
    "lat = 40.748445\n",
    "lon = -73.985664\n",
    "center = [lat, lon]\n",
    "zoom = 12\n",
    "mark = Marker(location=center)"
   ]
  },
  {
   "cell_type": "code",
   "execution_count": 51,
   "metadata": {
    "collapsed": true
   },
   "outputs": [],
   "source": [
    "def map_on_date(year,month,day,hour):\n",
    "    lat = 40.748445\n",
    "    lon = -73.985664\n",
    "    center = [lat, lon]\n",
    "    zoom = 13\n",
    "    \n",
    "    m = Map(default_tiles=TileLayer(opacity=1.0), center=center, zoom=zoom)\n",
    "    data_rm=dt9.loc[(dt9.year==year)&\n",
    "                (dt9.month==month)&\n",
    "                (dt9.day==day)&\n",
    "                (dt9.pickup_hour==hour),:]\n",
    "    if len(data_rm)== 0:\n",
    "        m.close()\n",
    "        return\n",
    "    pr=u''\n",
    "    f='vcc'\n",
    "    colormap=mpl.cm.Blues\n",
    "    if (year==2016)&(month==6):\n",
    "        colormap=mpl.cm.RdBu_r\n",
    "        f='fc1'\n",
    "        pr=u' Прогноз '\n",
    "    colors1 = data_to_colors(data_rm[f],colormap)\n",
    "    colors2 = data_to_colors(data_rm[f],mpl.cm.RdBu_r)\n",
    "    #print data_rm.vcc\n",
    "    for region, color, fcolor in zip(regions_ids, colors1, colors2):\n",
    "        r=regions.loc[regions.region==region]\n",
    "        bounds = [(r.north.values[0],r.west.values[0]),\n",
    "              (r.north.values[0],r.east.values[0]),\n",
    "              (r.south.values[0],r.east.values[0]),\n",
    "              (r.south.values[0],r.west.values[0])\n",
    "          ]\n",
    "        pg = il.Polygon(locations=bounds, weight=1,\n",
    "            color=fcolor, opacity=0.8, fill_opacity=0.5,\n",
    "            fill_color=color)\n",
    "        \n",
    "        m += pg\n",
    "    t=widgets.Text()\n",
    "    txt=u'Дата {}-{}-{} {}:00:00 {}'.format(day,month,year,hour,pr)\n",
    "    t.value=txt\n",
    "    display(t)\n",
    "    display(m)"
   ]
  },
  {
   "cell_type": "code",
   "execution_count": 50,
   "metadata": {
    "collapsed": true
   },
   "outputs": [],
   "source": [
    "def map_on_all():\n",
    "    lat = 40.748445\n",
    "    lon = -73.985664\n",
    "    center = [lat, lon]\n",
    "    zoom = 12\n",
    "    #mark = Marker(location=center)\n",
    "    m = Map(default_tiles=TileLayer(opacity=1.0), center=center, zoom=zoom)\n",
    "    data_rm=dt9.groupby('region_pickup').sum().reset_index()\n",
    "    if len(data_rm)== 0:\n",
    "        m.close()\n",
    "        return\n",
    "    colors1 = data_to_colors(data_rm['vcc'])\n",
    "    colors2 = data_to_colors(data_rm['vcc'],mpl.cm.RdBu_r)\n",
    "    #print data_rm.vcc\n",
    "    for region, color,fcolor in zip(regions_ids, colors1, colors2):\n",
    "        r=regions.loc[regions.region==region]\n",
    "        bounds = [(r.north.values[0],r.west.values[0]),\n",
    "              (r.north.values[0],r.east.values[0]),\n",
    "              (r.south.values[0],r.east.values[0]),\n",
    "              (r.south.values[0],r.west.values[0])\n",
    "          ]\n",
    "        pg = il.Polygon(locations=bounds, weight=1,\n",
    "            color=fcolor, opacity=0.8, fill_opacity=0.5,\n",
    "            fill_color=color)\n",
    "        \n",
    "        m += pg\n",
    "    m += mark\n",
    "    m.touch_zoom=False\n",
    "    m.on_msg(handle_region)\n",
    "    m.on_trait_change(handle_region)\n",
    "    display(NumberofRegion)\n",
    "    display(button)\n",
    "    display(m)"
   ]
  },
  {
   "cell_type": "code",
   "execution_count": 17,
   "metadata": {
    "collapsed": false
   },
   "outputs": [],
   "source": [
    "\n",
    "def handle_region(self, action, geo_json):\n",
    "    d=geo_json\n",
    "    region=NumberofRegion.value\n",
    "    #print region\n",
    "    try:\n",
    "        if d.has_key(u'center'):\n",
    "            center = d.get(u'center')\n",
    "            #print 'center ',center\n",
    "            \n",
    "            region = get_region(center[1],center[0])\n",
    "            #print 'region ',region\n",
    "            NumberofRegion.value=str(region)\n",
    "            #print(action)\n",
    "            #print(geo_json)\n",
    "            \n",
    "            mark.visible=False\n",
    "            mark.location=center\n",
    "            mark.visible=True\n",
    "          \n",
    "    except:\n",
    "        \n",
    "        region=NumberofRegion.value\n",
    "    return region"
   ]
  },
  {
   "cell_type": "markdown",
   "metadata": {},
   "source": [
    "Интерактивная карта Нью-Йорка, с визуализацией реального и прогнозируемого спроса на такси в выбираемый пользователем момент времени"
   ]
  },
  {
   "cell_type": "code",
   "execution_count": 52,
   "metadata": {
    "collapsed": false
   },
   "outputs": [],
   "source": [
    "from IPython.html import widgets\n",
    "widgets.interact(map_on_date, year=(2015,2016,1), month=(1,12,1), day=(1,31,1), hour=(0,24,1))"
   ]
  },
  {
   "cell_type": "markdown",
   "metadata": {},
   "source": [
    "Нарисуйте временной ряд фактического и прогнозируемого спроса на такси в выбираемой области на интерактивной карте Нью-Йорка."
   ]
  },
  {
   "cell_type": "code",
   "execution_count": 53,
   "metadata": {
    "collapsed": false
   },
   "outputs": [
    {
     "name": "stdout",
     "output_type": "stream",
     "text": [
      "Регион № 1231\n"
     ]
    },
    {
     "data": {
      "text/plain": [
       "<matplotlib.figure.Figure at 0x107596d8>"
      ]
     },
     "metadata": {},
     "output_type": "display_data"
    },
    {
     "data": {
      "image/png": "[encoded data removed]",
      "text/plain": [
       "<matplotlib.figure.Figure at 0xfa75e80>"
      ]
     },
     "metadata": {},
     "output_type": "display_data"
    }
   ],
   "source": [
    "# Двойным кликом выберите область (или введите код региона) и нажмите кнопку \"Нарисовать график\"\n",
    "map_on_all()"
   ]
  },
  {
   "cell_type": "code",
   "execution_count": null,
   "metadata": {
    "collapsed": true
   },
   "outputs": [],
   "source": []
  }
 ],
 "metadata": {
  "anaconda-cloud": {},
  "kernelspec": {
   "display_name": "Python [Root]",
   "language": "python",
   "name": "Python [Root]"
  },
  "language_info": {
   "codemirror_mode": {
    "name": "ipython",
    "version": 2
   },
   "file_extension": ".py",
   "mimetype": "text/x-python",
   "name": "python",
   "nbconvert_exporter": "python",
   "pygments_lexer": "ipython2",
   "version": "2.7.12"
  },
  "widgets": {
   "state": {
    "06f1e43ed1f14e9ea1b9bf0f1567337a": {
     "views": [
      {
       "cell_index": 21
      }
     ]
    },
    "07869f3be7ab40c582d6a24c86619276": {
     "views": [
      {
       "cell_index": 21
      },
      {
       "cell_index": 22
      }
     ]
    },
    "0c296f2fd8754463b6578aa10c746a9f": {
     "views": [
      {
       "cell_index": 20
      }
     ]
    },
    "1f455ee441a94cbcb8f168d43c78939d": {
     "views": [
      {
       "cell_index": 20
      }
     ]
    },
    "2adc75372d594b2ca7278fbfec3b5c73": {
     "views": [
      {
       "cell_index": 20
      }
     ]
    },
    "36238ce3c12341949ddf7874c13182fd": {
     "views": [
      {
       "cell_index": 20
      }
     ]
    },
    "3afef250a92445bc850b28fcf6c8b744": {
     "views": [
      {
       "cell_index": 20
      }
     ]
    },
    "3c242e33ccab4302b0d7849884859007": {
     "views": [
      {
       "cell_index": 22
      }
     ]
    },
    "4dd0e93c40814dba8cf3fcb204da20cf": {
     "views": [
      {
       "cell_index": 20
      }
     ]
    },
    "524a3dd20c524f5b8a8ff46aa877d47f": {
     "views": [
      {
       "cell_index": 22
      },
      {
       "cell_index": 22
      }
     ]
    },
    "5392942561874cc3b537eed62a50923f": {
     "views": [
      {
       "cell_index": 18
      }
     ]
    },
    "5c67539bcb884cebaf04529618fce9bd": {
     "views": [
      {
       "cell_index": 20
      }
     ]
    },
    "75a2c642b8044488b8b7221b4e513921": {
     "views": [
      {
       "cell_index": 20
      }
     ]
    },
    "75efeedeaed44f2b8e5d4cbf9135ab49": {
     "views": [
      {
       "cell_index": 20
      }
     ]
    },
    "7bd550d492ef42a0b1636f68cfbb1294": {
     "views": [
      {
       "cell_index": 20
      }
     ]
    },
    "81bf20684bbe498087ba0097af70f900": {
     "views": [
      {
       "cell_index": 20
      }
     ]
    },
    "83336e10d49646fea55cbe5c6a26c7db": {
     "views": [
      {
       "cell_index": 20
      }
     ]
    },
    "836b1af5a7a24faf9e79a89a2171ebd5": {
     "views": [
      {
       "cell_index": 20
      }
     ]
    },
    "8e5a79d099ca425c986e67b3ec067194": {
     "views": [
      {
       "cell_index": 20
      }
     ]
    },
    "8ffc4657c5c2419ebaf30c29a5df7c39": {
     "views": [
      {
       "cell_index": 20
      }
     ]
    },
    "91db4644e7be4e7a91f0d6896674fd34": {
     "views": [
      {
       "cell_index": 20
      }
     ]
    },
    "abf68a45fe0045149ce9ef483b570f5a": {
     "views": [
      {
       "cell_index": 20
      }
     ]
    },
    "cfeff2f86a19493db4cc351dc24227b9": {
     "views": [
      {
       "cell_index": 20
      }
     ]
    },
    "d9cf4bc997144e2ea456136219ce9ba1": {
     "views": [
      {
       "cell_index": 22
      }
     ]
    },
    "f60a1c0567ee4f90b75179b68f646a52": {
     "views": [
      {
       "cell_index": 18
      }
     ]
    }
   },
   "version": "1.2.0"
  }
 },
 "nbformat": 4,
 "nbformat_minor": 0
}
